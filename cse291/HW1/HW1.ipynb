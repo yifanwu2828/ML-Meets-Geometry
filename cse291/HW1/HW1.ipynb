{
 "cells": [
  {
   "cell_type": "code",
   "execution_count": 1,
   "source": [
    "from math import pi, cos, sin, sqrt\n",
    "from pprint import pprint\n",
    "\n",
    "from mpl_toolkits.mplot3d import Axes3D\n",
    "import numpy as np\n",
    "import scipy.linalg as LA\n",
    "\n",
    "import open3d as o3d\n",
    "import matplotlib.pyplot as plt\n",
    "\n",
    "from tqdm import tqdm\n"
   ],
   "outputs": [
    {
     "output_type": "stream",
     "name": "stdout",
     "text": [
      "Jupyter environment detected. Enabling Open3D WebVisualizer.\n",
      "[Open3D INFO] WebRTC GUI backend enabled.\n",
      "[Open3D INFO] WebRTCWindowSystem: HTTP handshake server disabled.\n"
     ]
    }
   ],
   "metadata": {}
  },
  {
   "cell_type": "code",
   "execution_count": 2,
   "source": [
    "np.set_printoptions(suppress=True)"
   ],
   "outputs": [],
   "metadata": {}
  },
  {
   "cell_type": "markdown",
   "source": [
    "\n",
    "# 1 Rotation"
   ],
   "metadata": {}
  },
  {
   "cell_type": "markdown",
   "source": [
    "## helper functions"
   ],
   "metadata": {}
  },
  {
   "cell_type": "code",
   "execution_count": 3,
   "source": [
    "def skew2vec(x_hat: np.ndarray) -> np.ndarray:\n",
    "    \"\"\"\n",
    "    hat map so3 to vector\n",
    "    :param x_hat:\n",
    "    :return (3,) vector\n",
    "    \"\"\"\n",
    "    assert x_hat.shape == (3, 3), \"x_hat must be a 3x3 matrix\"\n",
    "    x1, x2, x3 = x_hat[2, 1], x_hat[0, 2], x_hat[1, 0]\n",
    "    return np.array([x1, x2, x3])\n",
    "\n",
    "\n",
    "def vec2skew(x: np.ndarray) -> np.ndarray:\n",
    "    \"\"\"\n",
    "    vector to hat map so3\n",
    "     [[0, -x3, x2],\n",
    "      [x3, 0, -x1],\n",
    "      [-x2, x1, 0]]\n",
    "    :param x: vector\n",
    "    :type x: numpy array vector\n",
    "    :return: skew symmetric matrix\n",
    "    \"\"\"\n",
    "    assert x.size == 3, \"x must be a vector with 3 elements\"\n",
    "    x_hat = np.zeros((3, 3), dtype=np.float64)\n",
    "    x_hat[0, 1] = -x[2]\n",
    "    x_hat[0, 2] = x[1]\n",
    "    x_hat[1, 0] = x[2]\n",
    "    x_hat[1, 2] = -x[0]\n",
    "    x_hat[2, 0] = -x[1]\n",
    "    x_hat[2, 1] = x[0]\n",
    "\n",
    "    return x_hat\n",
    "\n",
    "\n",
    "def get_qs_qv_from_Quat(quat: np.ndarray):\n",
    "    \"\"\"Extract qs and qv from quaternion\"\"\"\n",
    "    assert quat.size == 4, \"q must be a quaternion with 4 elements\"\n",
    "    qs = quat[0]\n",
    "    qv = quat[1:]\n",
    "    return qs, qv\n",
    "\n",
    "\n",
    "def get_rotation_matrix_from_Quat(quat: np.ndarray):\n",
    "    assert quat.size == 4, \"q must be a quaternion with 4 elements\"\n",
    "    assert abs(LA.norm(quat) - 1) < 1e-6, \"q must be a unit quaternion\"\n",
    "    I = np.eye(3)\n",
    "    qs, qv = get_qs_qv_from_Quat(quat)\n",
    "    qv = qv.reshape(3, 1)\n",
    "\n",
    "    qv_skew = vec2skew(qv)\n",
    "    a = qs * I + qv_skew\n",
    "    b = qs * I - qv_skew\n",
    "\n",
    "    Eq = np.hstack([-qv, a])\n",
    "    Gq = np.hstack([-qv, b])\n",
    "    return Eq @ Gq.T\n",
    "\n",
    "\n",
    "def get_exponential_coordinate_from_Quat(quat: np.ndarray):\n",
    "    \"\"\"\n",
    "    return:\n",
    "        omega_hat: unit vector of rotation axis\n",
    "        theta: angle of rotation\n",
    "    \"\"\"\n",
    "    qs, qv = get_qs_qv_from_Quat(quat)\n",
    "\n",
    "    # A more numerically stable expression of the rotation angle\n",
    "    # theta = 2 * np.arccos(qs)\n",
    "    theta = 2 * np.arctan2(LA.norm(qv), qs)\n",
    "\n",
    "    if theta == 0:\n",
    "        return theta, np.zeros_like(qv)\n",
    "    omega_hat = qv / np.sin(theta / 2)\n",
    "    assert abs(LA.norm(omega_hat) - 1) < 1e-6, \"||w|| != 1\"\n",
    "\n",
    "    return omega_hat, theta\n",
    "\n",
    "\n",
    "def get_rotation_matrix_from_axis_angle(omega_hat: np.ndarray, theta: float):\n",
    "    \"\"\"\n",
    "    get rotation matrix from exp map\n",
    "    R ∈ SO(3) := Rot(w,theta)\n",
    "        = \\exp^{[\\hat{w}] \\theta}\n",
    "        = I + [w]sin(\\theta) + [w]^2 (1-cos(\\theta))\n",
    "    :param omega_hat: unit vector of rotation axis\n",
    "    :param theta: angle of rotation\n",
    "    return: rotation matrix\n",
    "    \"\"\"\n",
    "    assert LA.norm(omega_hat) == 1, \"omega_hat must be a unit vector\"\n",
    "\n",
    "    omega_hat_skew = vec2skew(omega_hat)\n",
    "\n",
    "    # Rodrigues Formula\n",
    "    rot = (\n",
    "        np.eye(3)\n",
    "        + omega_hat_skew * np.sin(theta)\n",
    "        + LA.fractional_matrix_power(omega_hat_skew, 2) * (1 - np.cos(theta))\n",
    "    )\n",
    "\n",
    "    test = o3d.geometry.get_rotation_matrix_from_axis_angle(omega_hat * theta)\n",
    "    assert np.allclose(rot, LA.expm(omega_hat_skew * theta)), \"exp map is not correct\"\n",
    "    assert np.allclose(rot, test), \"rotation matrix is not correct\"\n",
    "    return rot\n",
    "\n",
    "def hw0_solve(A, b, eps):\n",
    "    x, _, _, _ = np.linalg.lstsq(A, b, rcond=None)\n",
    "    # case 1\n",
    "    if x.T @ x < eps:\n",
    "        return x\n",
    "    # case 2\n",
    "    d, U = np.linalg.eigh(A.T@A) # SVD of A may be faster\n",
    "    k = U.T@(A.T@b)\n",
    "    def func(lam):\n",
    "        return ((k / (d + 2 * lam))**2).sum() - eps\n",
    "    def dfunc(lam):\n",
    "        return -4 * ((k**2 / (d+2*lam)**3)).sum()\n",
    "    # Newton, should converge in less than 10 iterations\n",
    "    lam = 0\n",
    "    while True:\n",
    "        lam2 = lam - func(lam) / dfunc(lam)\n",
    "        if abs(lam-lam2) < 1e-6:\n",
    "            break\n",
    "        lam = lam2\n",
    "    x = U@(np.diag(1/(d + 2 * lam))@(U.T@(A.T@b)))\n",
    "    return x\n",
    "\n"
   ],
   "outputs": [],
   "metadata": {}
  },
  {
   "cell_type": "code",
   "execution_count": 4,
   "source": [
    "class rotation:\n",
    "    def __init__(self) -> None:\n",
    "        sqrt2 = np.sqrt(2)\n",
    "        self.p = np.array([1 / sqrt2, 1 / sqrt2, 0, 0])\n",
    "        self.q = np.array([1 / sqrt2, 0, 1 / sqrt2, 0])\n",
    "\n",
    "    def Q1(self):\n",
    "        # (1) ==============================================\n",
    "        r = (self.q + self.p) / 2\n",
    "        norm_r = LA.norm(r)\n",
    "        print(f\"norm of r: {norm_r}\")\n",
    "\n",
    "        # unit quaternion\n",
    "        unit_r = r / norm_r\n",
    "        assert abs(LA.norm(unit_r) - 1) < 1e-6, \"r is not a unit quaternion\"\n",
    "\n",
    "        rot = o3d.geometry.get_rotation_matrix_from_quaternion(unit_r)\n",
    "\n",
    "        M_r = get_rotation_matrix_from_Quat(unit_r)\n",
    "        assert np.allclose(M_r, rot), \"rotation matrix is not correct\"\n",
    "        print(f\"M(r): \")\n",
    "        pprint(M_r)\n",
    "\n",
    "        omega_hat_r, theta_r = get_exponential_coordinate_from_Quat(unit_r)\n",
    "        print(f\"theta: {theta_r: .4f} in radians / {np.rad2deg(theta_r)} in degrees\")\n",
    "        print(f\"omega_hat_r: {omega_hat_r}\")\n",
    "\n",
    "\n",
    "    def Q2(self):\n",
    "        omega_hat_p, theta_p = get_exponential_coordinate_from_Quat(self.p)\n",
    "        omega_hat_q, theta_q = get_exponential_coordinate_from_Quat(self.q)\n",
    "\n",
    "        print(f\"theta_p: {theta_p: .4f} in radians / {np.rad2deg(theta_p)} in degrees\")\n",
    "        print(f\"omega_hat_p: {omega_hat_p}\")\n",
    "        print(f\"exp coord: {theta_p * omega_hat_p}\")\n",
    "        \n",
    "        print(f\"theta_q: {theta_q: .4f} in radians / {np.rad2deg(theta_q)} in degrees\")\n",
    "        print(f\"omega_hat_q: {omega_hat_q}\")\n",
    "        print(f\"exp coord: {theta_q * omega_hat_q}\")\n",
    "\n",
    "\n",
    "    def Q3_a(self):\n",
    "        omega_hat_p, theta_p = get_exponential_coordinate_from_Quat(self.p)\n",
    "        omega_hat_q, theta_q = get_exponential_coordinate_from_Quat(self.q)\n",
    "\n",
    "        R_p = get_rotation_matrix_from_axis_angle(omega_hat_p, theta_p)\n",
    "        R_q = get_rotation_matrix_from_axis_angle(omega_hat_q, theta_q)\n",
    "        print(f\"R_p: \")\n",
    "        pprint(R_p)\n",
    "        print(f\"R_q: \")\n",
    "        pprint(R_q)\n",
    "\n",
    "\n",
    "    def Q3_b(self):\n",
    "        _, p_qv = get_qs_qv_from_Quat(self.p)\n",
    "        _, q_qv = get_qs_qv_from_Quat(self.q)\n",
    "\n",
    "        p_skew = vec2skew(p_qv)\n",
    "        q_skew = vec2skew(q_qv)\n",
    "\n",
    "        a = LA.expm(p_skew)\n",
    "        b = LA.expm(q_skew)\n",
    "\n",
    "        c = a @ b\n",
    "        d = LA.expm(p_skew + q_skew)\n",
    "        print(f\"exp([w1] + [w2] = \")\n",
    "        print(c)\n",
    "        print(f\"exp([w1]) exp([w2] = \")\n",
    "        print(d)\n",
    "\n",
    "        print(f\"exp([w1] + [w2]) = exp([w1]) exp([w2]): {np.allclose(c, d)}\")\n",
    "\n",
    "\n",
    "    def Q4_a(self):\n",
    "        p_prime = -self.p\n",
    "        q_prime = -self.q\n",
    "\n",
    "        \"\"\"\n",
    "        Two unit quaternions correspond to the same rotation\n",
    "        R(q) = R(-q)\n",
    "        \"\"\"\n",
    "\n",
    "        omega_hat_p, theta_p = get_exponential_coordinate_from_Quat(self.p)\n",
    "        omega_hat_q, theta_q = get_exponential_coordinate_from_Quat(self.q)\n",
    "        omega_hat_p_prime, theta_p_prime = get_exponential_coordinate_from_Quat(p_prime)\n",
    "        omega_hat_q_prime, theta_q_prime = get_exponential_coordinate_from_Quat(q_prime)\n",
    "\n",
    "        print(f\"theta_p: {theta_p: .4f} in radians / {np.rad2deg(theta_p)} in degrees\")\n",
    "        print(f\"omega_hat_p: {omega_hat_p}\")\n",
    "        print(\n",
    "            f\"theta_p': {theta_p_prime: .4f} in radians / {np.rad2deg(theta_p_prime)} in degrees\"\n",
    "        )\n",
    "        print(f\"omega_hat_p': {omega_hat_p_prime}\")\n",
    "\n",
    "        print(\n",
    "            f\"equal rotation: {np.allclose(get_rotation_matrix_from_Quat(self.p), get_rotation_matrix_from_Quat(p_prime))}\"\n",
    "        )\n",
    "\n",
    "        print(\"-\" * 50)\n",
    "        print(f\"theta_q: {theta_q: .4f} in radians / {np.rad2deg(theta_q)} in degrees\")\n",
    "        print(f\"omega_hat_q: {omega_hat_q}\")\n",
    "        print(\n",
    "            f\"theta_q': {theta_q_prime: .4f} in radians / {np.rad2deg(theta_q_prime)} in degrees\"\n",
    "        )\n",
    "        print(f\"omega_hat_q': {omega_hat_q_prime}\")\n",
    "        print(\n",
    "            f\"equal rotation: {np.allclose(get_rotation_matrix_from_Quat(self.q), get_rotation_matrix_from_Quat(q_prime))}\"\n",
    "        )"
   ],
   "outputs": [],
   "metadata": {}
  },
  {
   "cell_type": "code",
   "execution_count": 5,
   "source": [
    "rot_ans = rotation()"
   ],
   "outputs": [],
   "metadata": {}
  },
  {
   "cell_type": "markdown",
   "source": [
    "## 1.1 \n",
    "### Find a quaternion $r$ that is a scalar multiple of $(p + q)/2$ and that has unit norm, $|r| = 1$, and calculate the rotation matrix $M (r)$. Around what axis does $M (r)$ rotate, and through what angle"
   ],
   "metadata": {}
  },
  {
   "cell_type": "code",
   "execution_count": 6,
   "source": [
    "rot_ans.Q1()"
   ],
   "outputs": [
    {
     "output_type": "stream",
     "name": "stdout",
     "text": [
      "norm of r: 0.8660254037844386\n",
      "M(r): \n",
      "array([[ 0.66666667,  0.33333333,  0.66666667],\n",
      "       [ 0.33333333,  0.66666667, -0.66666667],\n",
      "       [-0.66666667,  0.66666667,  0.33333333]])\n",
      "theta:  1.2310 in radians / 70.52877936550931 in degrees\n",
      "omega_hat_r: [0.70710678 0.70710678 0.        ]\n"
     ]
    }
   ],
   "metadata": {}
  },
  {
   "cell_type": "markdown",
   "source": [
    "## 1.2 What are the exponential coordinates of $p$ and $q$?"
   ],
   "metadata": {}
  },
  {
   "cell_type": "code",
   "execution_count": 7,
   "source": [
    "rot_ans.Q2()"
   ],
   "outputs": [
    {
     "output_type": "stream",
     "name": "stdout",
     "text": [
      "theta_p:  1.5708 in radians / 90.0 in degrees\n",
      "omega_hat_p: [1. 0. 0.]\n",
      "exp coord: [1.57079633 0.         0.        ]\n",
      "theta_q:  1.5708 in radians / 90.0 in degrees\n",
      "omega_hat_q: [0. 1. 0.]\n",
      "exp coord: [0.         1.57079633 0.        ]\n"
     ]
    }
   ],
   "metadata": {}
  },
  {
   "cell_type": "markdown",
   "source": [
    "## 1.3.a  Build the skew-symmetric matrix $[\\omega_p]$ of $p$ and $[\\omega_q]$ of $q$, and derive their rotation matrices."
   ],
   "metadata": {}
  },
  {
   "cell_type": "code",
   "execution_count": 8,
   "source": [
    "rot_ans.Q3_a()"
   ],
   "outputs": [
    {
     "output_type": "stream",
     "name": "stdout",
     "text": [
      "R_p: \n",
      "array([[ 1.,  0.,  0.],\n",
      "       [ 0.,  0., -1.],\n",
      "       [ 0.,  1.,  0.]])\n",
      "R_q: \n",
      "array([[ 0.,  0.,  1.],\n",
      "       [ 0.,  1.,  0.],\n",
      "       [-1.,  0.,  0.]])\n"
     ]
    }
   ],
   "metadata": {}
  },
  {
   "cell_type": "markdown",
   "source": [
    "## 1.3.b \n",
    "\n",
    "verify $$ \\exp([\\omega_1] + [\\omega_2]) \\neq \\exp([\\omega_1]) \\exp([\\omega_1]) $$"
   ],
   "metadata": {}
  },
  {
   "cell_type": "code",
   "execution_count": 9,
   "source": [
    "rot_ans.Q3_b()"
   ],
   "outputs": [
    {
     "output_type": "stream",
     "name": "stdout",
     "text": [
      "exp([w1] + [w2] = \n",
      "[[ 0.7602446   0.          0.64963694]\n",
      " [ 0.42202815  0.7602446  -0.49388297]\n",
      " [-0.49388297  0.64963694  0.57797185]]\n",
      "exp([w1]) exp([w2] = \n",
      "[[ 0.77015115  0.22984885  0.59500984]\n",
      " [ 0.22984885  0.77015115 -0.59500984]\n",
      " [-0.59500984  0.59500984  0.54030231]]\n",
      "exp([w1] + [w2]) = exp([w1]) exp([w2]): False\n"
     ]
    }
   ],
   "metadata": {}
  },
  {
   "cell_type": "markdown",
   "source": [
    "## 1.3.c\n"
   ],
   "metadata": {}
  },
  {
   "cell_type": "code",
   "execution_count": 10,
   "source": [
    "# Note Matplotlib is only suitable for simple 3D visualization.\n",
    "# For later problems, you should not use Matplotlib to do the plotting\n",
    "\n",
    "def show_points(points):\n",
    "    fig = plt.figure()\n",
    "    ax = fig.gca(projection='3d')\n",
    "    ax.set_xlim3d([-2, 2])\n",
    "    ax.set_ylim3d([-2, 2])\n",
    "    ax.set_zlim3d([0, 4])\n",
    "    ax.scatter(points[0], points[2], points[1])\n",
    "    \n",
    "def compare_points(points1, points2):\n",
    "    fig = plt.figure()\n",
    "    ax = plt.axes(projection='3d')\n",
    "    ax.set_xlim3d([-2, 2])\n",
    "    ax.set_ylim3d([-2, 2])\n",
    "    ax.set_zlim3d([0, 4])\n",
    "    ax.scatter(points1[0], points1[2], points1[1])\n",
    "    ax.scatter(points2[0], points2[2], points2[1])    "
   ],
   "outputs": [],
   "metadata": {}
  },
  {
   "cell_type": "markdown",
   "source": [
    "Since $R_2 = R 1 \\exp([\\Delta w]) \\approx R_1 (I + [\\Delta w])$ for $\\Delta w \\approx 0$.\n",
    "\n",
    "$$ \n",
    "\\argmin || R x_i - y_i  ||_{F}^2 \\\\\n",
    "= \\argmin || R' (I + [\\Delta w]) x_i - y_i  ||_{F}^2 \\\\\n",
    "= \\argmin || R' [\\Delta w] x_i  + R' xi - y_i  ||_{F}^2\\\\\n",
    "= \\argmin || R' (\\Delta w \\times x_i)  + R' xi - y_i  ||_{F}^2\\\\\n",
    "= \\argmin || -R' x_i \\times \\Delta w   + R' xi - y_i  ||_{F}^2\\\\\n",
    "= \\argmin || -R' x_i \\times \\Delta w   + R' xi - y_i  ||_{F}^2\\\\\n",
    "= \\argmin || -R' [x_i] \\Delta w   + R' xi - y_i  ||_{F}^2\\\\\n",
    "$$\n",
    "$$\n",
    "= ||-\\begin{bmatrix}\n",
    "R' [x_1] \\\\\n",
    "R' [x_2] \\\\\n",
    "...\\\\\n",
    "R' [x_n] \\\\\n",
    "\n",
    "\\end{bmatrix} \\Delta w +  \\begin{bmatrix}\n",
    "R' x_1 - y_1 \\\\\n",
    "R' x_2 - y_2 \\\\\n",
    "... \\\\\n",
    "R' x_n - y_n \\\\\n",
    "\\end{bmatrix}||_{F}^2\n",
    "$$"
   ],
   "metadata": {}
  },
  {
   "cell_type": "markdown",
   "source": [
    "Convert the objective to a linear least square problem.\n",
    "\n",
    "$$ \\min_{R} ||A \\Delta w - B||^2_{F} $$\n",
    "\n",
    "$$\n",
    "A = -\\begin{bmatrix}\n",
    "R' [x_1] \\\\\n",
    "R' [x_2] \\\\\n",
    "...\\\\\n",
    "R' [x_n] \\\\\n",
    "\n",
    "\\end{bmatrix} \n",
    "$$\n",
    "\n",
    "$$\n",
    "B = -\\begin{bmatrix}\n",
    "y_1 -R' x_1   \\\\\n",
    "y_2 - R' x_2   \\\\\n",
    "... \\\\\n",
    "y_n - R' x_n   \\\\\n",
    "\\end{bmatrix}\n",
    "$$"
   ],
   "metadata": {}
  },
  {
   "cell_type": "code",
   "execution_count": 11,
   "source": [
    "npz = np.load('data/HW1_P1.npz')\n",
    "X = npz['X']\n",
    "Y = npz['Y']\n",
    "# compare_points(X, Y)  # noisy teapotsand\n",
    "X.shape, Y.shape"
   ],
   "outputs": [
    {
     "output_type": "execute_result",
     "data": {
      "text/plain": [
       "((3, 2000), (3, 2000))"
      ]
     },
     "metadata": {},
     "execution_count": 11
    }
   ],
   "metadata": {}
  },
  {
   "cell_type": "code",
   "execution_count": 12,
   "source": [
    "def calcuA(R, X):\n",
    "    A = R @ vec2skew(X[:, 0])\n",
    "    for i in range(1, X.shape[1]):\n",
    "        b = R @ vec2skew(X[:, i])\n",
    "        A = np.vstack((A, b))\n",
    "    return -A\n",
    "\n",
    "\n",
    "def calcuB(R, X, Y):    \n",
    "    B = (R @ X[:, 0] - Y[:, 0]).reshape(3, 1)\n",
    "    for i in range(1, X.shape[1]):\n",
    "        b = (R @ X[:, i] - Y[:, i]).reshape(3, 1)\n",
    "        B = np.vstack((B, b))\n",
    "    return -B"
   ],
   "outputs": [],
   "metadata": {}
  },
  {
   "cell_type": "code",
   "execution_count": 16,
   "source": [
    " # implementation of Q3\n",
    "I = np.eye(3)\n",
    "R = np.eye(3)\n",
    "old_R = R.copy()\n",
    "# solve this problem here, and store your final results in R1\n",
    "\n",
    "for i in tqdm(range(100)):\n",
    "    A = calcuA(R, X)\n",
    "    B = calcuB(R, X, Y)\n",
    "    \n",
    "    delta_w = hw0_solve(A, B, eps=1)\n",
    "    R = R @ LA.expm(vec2skew(delta_w))\n",
    "    np.testing.assert_allclose (R.T@R, I, rtol=1e-05, atol=1e-08)\n",
    "    \n",
    "    if np.allclose(R, old_R):\n",
    "        print(\"converged at iteration {}\".format(i))\n",
    "        break\n",
    "    old_R = R.copy()"
   ],
   "outputs": [
    {
     "output_type": "stream",
     "name": "stderr",
     "text": [
      "  7%|▋         | 7/100 [00:00<00:03, 29.87it/s]"
     ]
    },
    {
     "output_type": "stream",
     "name": "stdout",
     "text": [
      "converged at iteration 7\n"
     ]
    },
    {
     "output_type": "stream",
     "name": "stderr",
     "text": [
      "\n"
     ]
    }
   ],
   "metadata": {}
  },
  {
   "cell_type": "code",
   "execution_count": 17,
   "source": [
    "# Testing code, you should see the points of the 2 teapots roughly overlap\n",
    "compare_points(R@X, Y)\n",
    "R.T@R"
   ],
   "outputs": [
    {
     "output_type": "execute_result",
     "data": {
      "text/plain": [
       "array([[ 1.,  0., -0.],\n",
       "       [ 0.,  1.,  0.],\n",
       "       [-0.,  0.,  1.]])"
      ]
     },
     "metadata": {},
     "execution_count": 17
    },
    {
     "output_type": "display_data",
     "data": {
      "image/png": "[encoded data removed]",
      "text/plain": [
       "<Figure size 432x288 with 1 Axes>"
      ]
     },
     "metadata": {
      "needs_background": "light"
     }
    }
   ],
   "metadata": {}
  },
  {
   "cell_type": "markdown",
   "source": [
    "### 1.4.a Double-covering of quaternions \n"
   ],
   "metadata": {}
  },
  {
   "cell_type": "code",
   "execution_count": 18,
   "source": [
    "rot_ans.Q4_a()\n"
   ],
   "outputs": [
    {
     "output_type": "stream",
     "name": "stdout",
     "text": [
      "theta_p:  1.5708 in radians / 90.0 in degrees\n",
      "omega_hat_p: [1. 0. 0.]\n",
      "theta_p':  4.7124 in radians / 270.0 in degrees\n",
      "omega_hat_p': [-1. -0. -0.]\n",
      "equal rotation: True\n",
      "--------------------------------------------------\n",
      "theta_q:  1.5708 in radians / 90.0 in degrees\n",
      "omega_hat_q: [0. 1. 0.]\n",
      "theta_q':  4.7124 in radians / 270.0 in degrees\n",
      "omega_hat_q': [-0. -1. -0.]\n",
      "equal rotation: True\n"
     ]
    }
   ],
   "metadata": {}
  },
  {
   "cell_type": "markdown",
   "source": [
    "1.4.b your solution here"
   ],
   "metadata": {}
  },
  {
   "cell_type": "markdown",
   "source": [
    "---------------------------------------------------------------------------------------"
   ],
   "metadata": {}
  },
  {
   "cell_type": "markdown",
   "source": [
    "# 2 Geometry"
   ],
   "metadata": {}
  },
  {
   "cell_type": "markdown",
   "source": [
    "## 2.1"
   ],
   "metadata": {}
  },
  {
   "cell_type": "code",
   "execution_count": 19,
   "source": [
    "ans = plt.imread('./2.1.png')\n",
    "plt.imshow(ans)\n",
    "plt.axis('off')\n",
    "plt.show()"
   ],
   "outputs": [
    {
     "output_type": "display_data",
     "data": {
      "image/png": "[encoded data removed]",
      "text/plain": [
       "<Figure size 432x288 with 1 Axes>"
      ]
     },
     "metadata": {
      "needs_background": "light"
     }
    }
   ],
   "metadata": {}
  },
  {
   "cell_type": "code",
   "execution_count": 20,
   "source": [
    "a, b, c = 1, 1, 0.5"
   ],
   "outputs": [],
   "metadata": {}
  },
  {
   "cell_type": "markdown",
   "source": [
    "### Helper functions"
   ],
   "metadata": {}
  },
  {
   "cell_type": "code",
   "execution_count": 21,
   "source": [
    "# These are some convenient functions to create open3d geometries and plot them\n",
    "# The viewing direction is fine-tuned for this problem, you should not change them\n",
    "import open3d\n",
    "import open3d as o3d\n",
    "import numpy as np\n",
    "import matplotlib.pyplot as plt\n",
    "\n",
    "vis = open3d.visualization.Visualizer()\n",
    "vis.create_window(visible = False)\n",
    "\n",
    "def draw_geometries(geoms):\n",
    "    for g in geoms:\n",
    "        vis.add_geometry(g)\n",
    "    view_ctl = vis.get_view_control()\n",
    "    view_ctl.set_up((0, 1e-4, 1))\n",
    "    view_ctl.set_front((0, 0.5, 2))\n",
    "    view_ctl.set_lookat((0, 0, 0))\n",
    "    # do not change this view point\n",
    "    vis.update_renderer()\n",
    "    img = vis.capture_screen_float_buffer(True)\n",
    "    plt.figure(figsize=(8,6))\n",
    "    plt.imshow(np.asarray(img)[::-1, ::-1])\n",
    "    for g in geoms:\n",
    "        vis.remove_geometry(g)\n",
    "    \n",
    "def create_arrow_from_vector(origin, vector, color = [1, 0, 1]):\n",
    "    '''\n",
    "    origin: origin of the arrow\n",
    "    vector: direction of the arrow\n",
    "    '''\n",
    "    v = np.array(vector)\n",
    "    v /= np.linalg.norm(v)\n",
    "    z = np.array([0,0,1])\n",
    "    angle = np.arccos(z@v)\n",
    "    \n",
    "    arrow = open3d.geometry.TriangleMesh.create_arrow(0.05, 0.1, 0.25, 0.2)\n",
    "    arrow.paint_uniform_color(color)\n",
    "    T = np.eye(4)\n",
    "    T[:3, 3] = np.array(origin)\n",
    "    T[:3,:3] = open3d.geometry.get_rotation_matrix_from_axis_angle(np.cross(z, v) * angle)\n",
    "    arrow.transform(T)\n",
    "    return arrow\n",
    "\n",
    "def create_ellipsoid(a,b,c):\n",
    "    sphere = open3d.geometry.TriangleMesh.create_sphere()\n",
    "    sphere.transform(np.diag([a,b,c,1]))\n",
    "    sphere.compute_vertex_normals()\n",
    "    return sphere\n",
    "\n",
    "\n",
    "def create_lines(points):\n",
    "    lines = []\n",
    "    for p1, p2 in zip(points[:-1], points[1:]):\n",
    "        height = np.linalg.norm(p2-p1)\n",
    "        center = (p1+p2) / 2\n",
    "        d = p2-p1\n",
    "        d /= np.linalg.norm(d)\n",
    "        axis = np.cross(np.array([0,0,1]), d)\n",
    "        axis /= np.linalg.norm(axis)\n",
    "        angle = np.arccos(np.array([0,0,1]) @ d)\n",
    "        R = open3d.geometry.get_rotation_matrix_from_axis_angle(axis * angle)\n",
    "        \n",
    "        T = np.eye(4)\n",
    "        T[:3,:3]=R\n",
    "        T[:3,3] = center\n",
    "        cylinder = open3d.geometry.TriangleMesh.create_cylinder(0.02, height)\n",
    "        cylinder.transform(T)\n",
    "        cylinder.paint_uniform_color([1,0,0])\n",
    "        lines.append(cylinder)\n",
    "    return lines"
   ],
   "outputs": [],
   "metadata": {}
  },
  {
   "cell_type": "code",
   "execution_count": 22,
   "source": [
    "# example code to draw ellipsoid, curve, and arrows\n",
    "arrow = create_arrow_from_vector([0.,0.,1.], [1.,1.,0.])\n",
    "ellipsoid = create_ellipsoid(a, b, c)\n",
    "cf = open3d.geometry.TriangleMesh.create_coordinate_frame()\n",
    "cf.scale(1.5, (0,0,0))\n",
    "curve = create_lines(np.array([[1,1,1], [-1,1,1], [-1,-1,1], [1,-1,1], [1,1,1]], dtype=np.float64))\n",
    "# draw_geometries([ellipsoid, cf, arrow] + curve)\n",
    "geoms = [ellipsoid, cf, arrow] + curve\n"
   ],
   "outputs": [],
   "metadata": {}
  },
  {
   "cell_type": "code",
   "execution_count": 23,
   "source": [
    "\n",
    "colormap = {\n",
    "    \"red\": [1, 0, 0],\n",
    "    \"green\": [0, 1, 0],\n",
    "    \"blue\": [0, 0, 1],\n",
    "    \"orange\": [1, 0.706, 0],\n",
    "    \"yellow\": [1, 1, 0],\n",
    "    \"black\": [0, 0, 0],\n",
    "    \"white\": [1, 1, 1],\n",
    "}"
   ],
   "outputs": [],
   "metadata": {}
  },
  {
   "cell_type": "markdown",
   "source": [
    "## 2.2 "
   ],
   "metadata": {}
  },
  {
   "cell_type": "code",
   "execution_count": 24,
   "source": [
    "def f(u, v):\n",
    "    \"map f : R2 -> R3 | (u,v) to (x,y,z)\"\n",
    "    assert -pi < u < pi\n",
    "    assert 0 < v < pi\n",
    "    return np.array([\n",
    "        [a * np.cos(u) * np.sin(v)],\n",
    "        [b * np.sin(u) * np.sin(v)],\n",
    "        [c * np.cos(v)],\n",
    "    ])\n",
    "\n",
    "\n",
    "def gamma(t):\n",
    "    \"\"\"\n",
    "    Parameterized Curves\n",
    "    \"\"\"\n",
    "    u = pi / 4\n",
    "    v = pi / 6\n",
    "    return t + u, v\n"
   ],
   "outputs": [],
   "metadata": {}
  },
  {
   "cell_type": "code",
   "execution_count": 25,
   "source": [
    "p = np.array([pi / 4, pi / 6])\n",
    "\n",
    "# t \\in [-1, 1]\n",
    "time_steps = np.arange(-1, 1, 0.01)\n",
    "gamma_t = np.array([gamma(t) for t in time_steps])\n",
    "                    \n",
    "curve2D = np.vstack([p, gamma_t])\n",
    "\n",
    "f_curve3D = np.asarray([f(u, v).ravel() for u, v in curve2D])\n",
    "\n",
    "pcd = o3d.geometry.PointCloud()\n",
    "pcd.points = o3d.utility.Vector3dVector(f_curve3D)\n",
    "\n",
    "draw_geometries(geoms + [pcd])"
   ],
   "outputs": [
    {
     "output_type": "display_data",
     "data": {
      "image/png": "[encoded data removed]",
      "text/plain": [
       "<Figure size 576x432 with 1 Axes>"
      ]
     },
     "metadata": {
      "needs_background": "light"
     }
    }
   ],
   "metadata": {}
  },
  {
   "cell_type": "markdown",
   "source": [
    "---------------------------------------------------------------------------------------"
   ],
   "metadata": {}
  },
  {
   "cell_type": "markdown",
   "source": [
    "### 2.3.a \n",
    "What is $Df_p$? Express it as a matrix.\n",
    "\n",
    "\n"
   ],
   "metadata": {}
  },
  {
   "cell_type": "markdown",
   "source": [
    "\n",
    "$$\\begin{bmatrix}\n",
    "-a \\sin (u) \\sin (v) & a \\cos (u) \\cos (v) \\\\\n",
    "b\\cos (u) \\sin (v) & b \\sin (u) \\cos (v) \\\\\n",
    "0 & -c \\sin (v) \\\\\n",
    "\\end{bmatrix} $$\n"
   ],
   "metadata": {}
  },
  {
   "cell_type": "markdown",
   "source": [],
   "metadata": {}
  },
  {
   "cell_type": "code",
   "execution_count": 26,
   "source": [
    "def get_D_fp(u, v):\n",
    "    \"\"\"\n",
    "    Df_p: T_p(R^2) -> T_{f(p)}R^3\n",
    "    \"\"\"\n",
    "    a, b, c = 1, 1, 0.5\n",
    "    return np.array(\n",
    "        [\n",
    "            [-a * np.sin(u) * np.sin(v), a * np.cos(u) * np.cos(v)],\n",
    "            [b * np.cos(u) * np.sin(v), b * np.sin(u) * np.cos(v)],\n",
    "            [0, -c * np.sin(v)],\n",
    "        ]\n",
    "    )\n"
   ],
   "outputs": [],
   "metadata": {}
  },
  {
   "cell_type": "markdown",
   "source": [
    "### 2.3.b Describe the geometric meaning of $Df_p$\n",
    "\n",
    "It maps or relate a vector in tangent space ($T_{p}$) of the domain $U$ to the tangent space of the surface $T_{f(p)}$.\n"
   ],
   "metadata": {}
  },
  {
   "cell_type": "markdown",
   "source": [
    "### 2.3.c  Draw $Df_p (v)$ on the ellipsoid when $p = (\\pi/4 , \\pi/6 )$ and $v = (1, 0)$."
   ],
   "metadata": {}
  },
  {
   "cell_type": "code",
   "execution_count": 27,
   "source": [
    "def flatten2list(arr):\n",
    "    return arr.flatten().tolist()"
   ],
   "outputs": [],
   "metadata": {}
  },
  {
   "cell_type": "code",
   "execution_count": 28,
   "source": [
    "p = [pi/4, pi/6]\n",
    "\n",
    "v = np.array([1, 0]).reshape(2, 1)\n",
    "\n",
    "Dfp_v = get_D_fp(*p) @ v\n",
    "Dfp_v"
   ],
   "outputs": [
    {
     "output_type": "execute_result",
     "data": {
      "text/plain": [
       "array([[-0.35355339],\n",
       "       [ 0.35355339],\n",
       "       [ 0.        ]])"
      ]
     },
     "metadata": {},
     "execution_count": 28
    }
   ],
   "metadata": {}
  },
  {
   "cell_type": "code",
   "execution_count": 29,
   "source": [
    "# start point\n",
    "fp = f(*p).flatten()\n",
    "Dfpv_arrow = create_arrow_from_vector(flatten2list(fp), flatten2list(Dfp_v), color=colormap[\"yellow\"])\n",
    "geoms_with_arrow = geoms + [Dfpv_arrow]\n",
    "draw_geometries(geoms_with_arrow + [pcd])\n"
   ],
   "outputs": [
    {
     "output_type": "display_data",
     "data": {
      "image/png": "[encoded data removed]",
      "text/plain": [
       "<Figure size 576x432 with 1 Axes>"
      ]
     },
     "metadata": {
      "needs_background": "light"
     }
    }
   ],
   "metadata": {}
  },
  {
   "cell_type": "markdown",
   "source": [
    "#### 2.3.d What is the normal vector of the tangent plane at $p$?\n",
    "\n",
    "$$f_u := \\frac{\\partial{f}}{\\partial {u}}, f_v := \\frac{\\partial{f}}{\\partial {v}}$$\n",
    "\n",
    "$$N = \\frac{f_u \\times f_v}{||f_u \\times f_v||}$$\n",
    "\n",
    "where\n",
    "$$ f_u \\times f_v = \\begin{bmatrix}\n",
    "-bc \\cos (u) \\sin^2 (v) \\\\\n",
    "-ac \\sin (u) \\sin^2 (v) \\\\\n",
    "-2ab\\cos (v) \\sin (v)\\\\\n",
    "\\end{bmatrix} $$\n",
    "\n",
    "$$ ||f_u \\times f_v|| = \\sqrt{ (bc \\cos (u) \\sin^2 (v))^2 + (ac \\sin (u) \\sin^2 (v))^2 + (2ab\\cos (v) \\sin (v))^2} $$"
   ],
   "metadata": {}
  },
  {
   "cell_type": "markdown",
   "source": [
    "### 2.3.e Give an orthonormal bases of the tangent space at $f (p)$ when $p = ( \\pi/4 , \\pi/6 )$.\n",
    "\n",
    "$T_f(p)$ has orthonormal basis $[B, D_fp]$, where $B = Df_p \\times N$ is the binormak vector.\n"
   ],
   "metadata": {}
  },
  {
   "cell_type": "code",
   "execution_count": 30,
   "source": [
    "u, v = [pi / 4, pi / 6]\n",
    "X = np.array([1, 0]).reshape(2, 1)\n",
    "D_fp = get_D_fp(u, v)\n",
    "\n",
    "f_u = D_fp[:, 0]\n",
    "f_v = D_fp[:, 1]\n",
    "\n",
    "N = np.cross(f_u, f_v)\n",
    "N /= np.linalg.norm(N)\n",
    "\n",
    "# binormal vector  \n",
    "B = np.cross((D_fp@X).flatten(), N)\n",
    "B /= np.linalg.norm(B)\n",
    "\n",
    "B_arrow = create_arrow_from_vector(\n",
    "    flatten2list(f(u, v)), flatten2list(B), color=colormap[\"black\"]\n",
    ")\n",
    "geoms_with_surface_binormal = geoms + [B_arrow] + [pcd] + [Dfpv_arrow]\n",
    "draw_geometries(geoms_with_surface_binormal)"
   ],
   "outputs": [
    {
     "output_type": "display_data",
     "data": {
      "image/png": "[encoded data removed]",
      "text/plain": [
       "<Figure size 576x432 with 1 Axes>"
      ]
     },
     "metadata": {
      "needs_background": "light"
     }
    }
   ],
   "metadata": {}
  },
  {
   "cell_type": "markdown",
   "source": [
    "--------------------------------------------------------------------------"
   ],
   "metadata": {}
  },
  {
   "cell_type": "markdown",
   "source": [
    "## 2.4.a Given $p = ( \\pi/ 4 , \\pi/6 )$ and $v = (1, 0)$. For simplicity, let $g_v (t ) = ( f \\odot \\gamma)(t )$ denote the curve which passes through $p$ at $t = 0$.\n",
    "\n",
    "What is the arc length $s(t)$ as the point moves from $g_v (0)$ to $g_v (t )$?"
   ],
   "metadata": {}
  },
  {
   "cell_type": "markdown",
   "source": [
    "$$g_v'(t) = Df \\cdot \\gamma '(t)$$\n",
    "\n",
    "$$ s(t) = \\int_{0}^{t} ||g_v'(t)|| dt \\\\\n",
    "    =  \\int_{0}^{t} ||Df \\cdot \\gamma '(t)|| dt \\\\\n",
    "    =  \\int_{0}^{t} ||Df \\cdot v|| dt\n",
    "$$"
   ],
   "metadata": {}
  },
  {
   "cell_type": "markdown",
   "source": [
    "$$ s(t) =\\int_{0}^{t} || \\begin{bmatrix} \n",
    "\n",
    "-a \\sin (u) \\sin (v) \\\\\n",
    "b  \\cos (u) \\sin (v) \\\\\n",
    "0 \\\\\n",
    "\n",
    "\\end{bmatrix}|| \\\\\n",
    "\n",
    "= \\int_{0}^{t} \\sqrt{a^2 \\sin^2 (u) \\sin^2 (v) + b^2 \\cos^2(u) \\sin^2 (v)} \\\\\n",
    "\n",
    "= \\sqrt{a^2 \\sin^2 (u) \\sin^2 (v) + b^2 \\cos^2(u) \\sin^2 (v)} \\cdot t \\\\\n",
    "\n",
    "= \\sqrt{[\\sin^2 (u) + \\cos^2(u)] \\sin^2 (v)} \\cdot t \\\\\n",
    "\n",
    "= |\\sin (v)| \\cdot t \\\\\n",
    "\n",
    "$$\n",
    "\n",
    "Plug in $v = \\pi/6$\n",
    "\n",
    "$$s(t) = \\frac{t}{2} $$\n",
    "\n",
    "$$ t(s) = 2s $$\n",
    "\n"
   ],
   "metadata": {}
  },
  {
   "cell_type": "markdown",
   "source": [
    "### 2.4.b Give the arc-length parameterization $h_v (s)$ of the curve $f \\odot γ$."
   ],
   "metadata": {}
  },
  {
   "cell_type": "markdown",
   "source": [
    "since $s = t/2 \\Rightarrow t = 2s$,\n",
    "\n",
    "$$ h_v(s) = f \\odot \\gamma (2s) \\\\\n",
    "\n",
    "= f \\odot [2s + \\pi/4, \\pi/6] \\\\\n",
    "\n",
    "= \\begin{bmatrix}\n",
    "a \\cos(2s+\\pi/4) \\sin(\\pi/6) \\\\\n",
    "b \\sin(2s+\\pi/4) \\sin(\\pi/6) \\\\\n",
    "c \\cos(\\pi/6) \\\\\n",
    "\\end{bmatrix}\n",
    "\n",
    "$$"
   ],
   "metadata": {}
  },
  {
   "cell_type": "markdown",
   "source": [
    "2.4.c"
   ],
   "metadata": {}
  },
  {
   "cell_type": "markdown",
   "source": [
    "----------------------------------------"
   ],
   "metadata": {}
  },
  {
   "cell_type": "markdown",
   "source": [
    "## 2.5"
   ],
   "metadata": {}
  },
  {
   "cell_type": "markdown",
   "source": [
    "### 2.5.a\n",
    "Compute the differential of the normal $ DN_p$\n",
    "\n",
    "$$ DN_p = \\begin{bmatrix}\n",
    "\\frac{\\partial{N}}{\\partial{u}} & \\frac{\\partial{N}}{\\partial{v}} \\\\\n",
    "\\end{bmatrix}\n",
    "= \n",
    "\\begin{bmatrix}\n",
    "\n",
    "bc \\sin(u) \\sin^2(v)& -2bc \\cos(u) \\sin(v) \\cos(v)    \\\\\n",
    "-ac\\cos(u)\\sin^2(v) & -2ac \\sin(u) \\sin(v)\\ cos(v)   \\\\\n",
    "0                   &  2ab (\\sin^2(v) - \\cos^2 (v))   \\\\\n",
    "\\end{bmatrix} $$\n",
    "\n",
    "Plug in $a = 1$, $b = 1$, $c = 1$ \n",
    "$$ DN_p = \\begin{bmatrix}\n",
    "\n",
    "0.5 \\sin(u) \\sin^2(v)& - \\cos(u) \\sin(v) \\cos(v)    \\\\\n",
    "-0.5\\cos(u)\\sin^2(v) & - \\sin(u) \\sin(v)\\ cos(v)   \\\\\n",
    "0                   &  2 (\\sin^2(v) - \\cos^2 (v))   \\\\\n",
    "\\end{bmatrix} $$\n",
    "\n",
    "\n"
   ],
   "metadata": {}
  },
  {
   "cell_type": "markdown",
   "source": [
    "$$\\frac{\\partial{N}}{\\partial{u}} = \n",
    "\n",
    "\\begin{bmatrix}\n",
    "\n",
    "\n",
    "\\frac{0.5\\sin(u) \\sin^2(v)} {\\sqrt{0.25 sin^4(v) + 4 \\sin^2(v)\\cos^2(v)}} \\\\\n",
    "\n",
    "\\frac{0.5 \\cos(u) \\sin^2(u)} {\\sqrt{0.25 sin^4(v) + 4 \\sin^2(v)\\cos^2(v)}} \\\\\n",
    "\n",
    "0 \\\\\n",
    "\n",
    "\\end{bmatrix} $$\n",
    "\n",
    "\n",
    "$$ \\frac{\\partial{N}}{\\partial{v}}= \\begin{bmatrix}\n",
    "\n",
    "\\frac{-0.5 \\cos (u) \\sin (v) \\cos (v)}{(1-0.9375\\sin^2(v)) (\\sqrt{0.25 sin^4(v) + 4 \\sin^2(v)\\cos^2(v)})}\\\\\n",
    "\n",
    "\n",
    "\\frac{-0.5 \\sin (u) \\sin (v) \\cos (v)}{(1-0.9375\\sin^2(v)) (\\sqrt{0.25 sin^4(v) + 4 \\sin^2(v)\\cos^2(v)})}\\\\\n",
    "\n",
    "\n",
    "\\frac{\\sin^4(v) + \\sin^2(v)\\cos^2(v)}{(1-0.9375\\sin^2(v)) (\\sqrt{0.25 sin^4(v) + 4 \\sin^2(v)\\cos^2(v)})}\\\\\n",
    "\n",
    "\n",
    "\\end{bmatrix}\n",
    "$$"
   ],
   "metadata": {}
  },
  {
   "cell_type": "code",
   "execution_count": 31,
   "source": [
    "def get_D_Np(u, v):\n",
    "    \n",
    "    denumerator_u = sqrt(0.25 * sin(v)**4 + 4 * sin(v)**2 * cos(v) **2)\n",
    "    \n",
    "    dN_du = np.array([\n",
    "        [0.5 * sin(u) * sin(v)**2 ],\n",
    "        [0.5 * cos(u) * sin(u)**2 ],\n",
    "        [0], \n",
    "    ])\n",
    "    dN_du /= denumerator_u\n",
    "    \n",
    "    \n",
    "    denumerator_v = (1 - 0.9375 *sin(v)**2) * sqrt(0.25 * sin(v)**4 + 4 * sin(v)**2 *cos(v)**2)\n",
    "    \n",
    "    dN_dv = np.array([\n",
    "        [-0.5* cos(u) * sin (v) *cos (v)],\n",
    "        [-0.5* sin(u) * sin (v) *cos (v)],\n",
    "        [sin(v)**4 + sin(v)*2 *cos(v)**2],\n",
    "    ])\n",
    "    \n",
    "    dN_dv /= denumerator_v\n",
    "     \n",
    "    return np.hstack([dN_du, dN_dv])"
   ],
   "outputs": [],
   "metadata": {}
  },
  {
   "cell_type": "markdown",
   "source": [
    "### 2.5.b"
   ],
   "metadata": {}
  },
  {
   "cell_type": "markdown",
   "source": [
    "2.5.c"
   ],
   "metadata": {}
  },
  {
   "cell_type": "code",
   "execution_count": 32,
   "source": [
    "p = [pi / 4, pi / 6]\n",
    "\n",
    "D_fp = get_D_fp(*p)\n",
    "\n",
    "D_Np = get_D_Np(*p)\n",
    "D_Np, D_fp"
   ],
   "outputs": [
    {
     "output_type": "execute_result",
     "data": {
      "text/plain": [
       "(array([[ 0.10101525, -0.22852382],\n",
       "        [ 0.20203051, -0.22852382],\n",
       "        [ 0.        ,  1.21282799]]),\n",
       " array([[-0.35355339,  0.61237244],\n",
       "        [ 0.35355339,  0.61237244],\n",
       "        [ 0.        , -0.25      ]]))"
      ]
     },
     "metadata": {},
     "execution_count": 32
    }
   ],
   "metadata": {}
  },
  {
   "cell_type": "code",
   "execution_count": 33,
   "source": [
    "# D_fp * S = D_Np \n",
    "\n",
    "\n",
    "S, res, rank, s = np.linalg.lstsq(D_fp, D_Np, rcond=None)\n",
    "print(S)\n"
   ],
   "outputs": [
    {
     "output_type": "stream",
     "name": "stdout",
     "text": [
      "[[ 0.14285714  0.        ]\n",
      " [ 0.2284023  -0.7176497 ]]\n"
     ]
    }
   ],
   "metadata": {}
  },
  {
   "cell_type": "code",
   "execution_count": 34,
   "source": [
    "eigval, eigvec = LA.eig(S)\n",
    "\n",
    "eigval, eigvec"
   ],
   "outputs": [
    {
     "output_type": "execute_result",
     "data": {
      "text/plain": [
       "(array([-0.7176497 +0.j,  0.14285714+0.j]),\n",
       " array([[0.        , 0.96653244],\n",
       "        [1.        , 0.25654443]]))"
      ]
     },
     "metadata": {},
     "execution_count": 34
    }
   ],
   "metadata": {}
  },
  {
   "cell_type": "code",
   "execution_count": 35,
   "source": [
    "x = f(u,v).tolist()"
   ],
   "outputs": [],
   "metadata": {}
  },
  {
   "cell_type": "code",
   "execution_count": 36,
   "source": [
    "k1_arrow = create_arrow_from_vector(\n",
    "    flatten2list(f(u, v)), flatten2list(eigvec[:, 1]) + x[-1], #color=colormap[\"orange\"]\n",
    ")\n",
    "k2_arrow = create_arrow_from_vector(\n",
    "    flatten2list(f(u, v)), flatten2list(eigvec[:, 0])+ x[-1], #color=colormap[\"orange\"]\n",
    ")\n",
    "\n",
    "geoms_with_k1k2 = geoms +  [pcd] + [k1_arrow] + [k2_arrow]\n",
    "draw_geometries(geoms_with_k1k2)"
   ],
   "outputs": [
    {
     "output_type": "display_data",
     "data": {
      "image/png": "[encoded data removed]",
      "text/plain": [
       "<Figure size 576x432 with 1 Axes>"
      ]
     },
     "metadata": {
      "needs_background": "light"
     }
    }
   ],
   "metadata": {}
  },
  {
   "cell_type": "markdown",
   "source": [
    "### 2.5.d Briefly describe the direction of the principal curvatures.\n",
    "Direction of the principal curvatures are orthogonal to each other, and independent of parameterization."
   ],
   "metadata": {}
  },
  {
   "cell_type": "markdown",
   "source": [
    "# 3 Mesh"
   ],
   "metadata": {}
  },
  {
   "cell_type": "markdown",
   "source": [
    "3.1 your proof here"
   ],
   "metadata": {}
  },
  {
   "cell_type": "markdown",
   "source": [
    "3.2 your proof here"
   ],
   "metadata": {}
  },
  {
   "cell_type": "markdown",
   "source": [
    "## 3.3 your solution here"
   ],
   "metadata": {}
  },
  {
   "cell_type": "code",
   "execution_count": 37,
   "source": [
    "# %reset -f\n",
    "\n",
    "# You may want to restart your notebook here, to reinitialize Open3D\n",
    "import open3d\n",
    "import numpy as np\n",
    "import matplotlib.pyplot as plt\n",
    "\n",
    "vis = open3d.visualization.Visualizer()\n",
    "vis.create_window(visible = False)\n",
    "\n",
    "# Make sure you call this function to draw the points for proper viewing direction\n",
    "def draw_geometries(geoms):\n",
    "    for g in geoms:\n",
    "        vis.add_geometry(g)\n",
    "    view_ctl = vis.get_view_control()\n",
    "    view_ctl.set_up((0, 1, 0))\n",
    "    view_ctl.set_front((0, 2, 1))\n",
    "    view_ctl.set_lookat((0, 0, 0))\n",
    "    view_ctl.set_zoom(1)\n",
    "    # do not change this view point\n",
    "    vis.update_renderer()\n",
    "    img = vis.capture_screen_float_buffer(True)\n",
    "    plt.figure(figsize=(8,6))\n",
    "    plt.imshow(np.asarray(img))\n",
    "    for g in geoms:\n",
    "        vis.remove_geometry(g)"
   ],
   "outputs": [],
   "metadata": {}
  },
  {
   "cell_type": "code",
   "execution_count": 38,
   "source": [
    "import trimesh\n",
    "sievert_mesh = trimesh.load('./data/sievert.obj')\n",
    "pcd = open3d.geometry.PointCloud()\n",
    "pcd.points = open3d.utility.Vector3dVector(sievert_mesh.vertices)\n"
   ],
   "outputs": [],
   "metadata": {}
  },
  {
   "cell_type": "code",
   "execution_count": 39,
   "source": [
    "import CalculCurvature as CC\n",
    "# Calculate Rusinkiewicz estimation of mean and gauss curvatures\n",
    "PrincipalCurvatures, PrincipalDir1, PrincipalDir2 = CC.GetCurvaturesAndDerivatives(sievert_mesh)\n"
   ],
   "outputs": [
    {
     "output_type": "stream",
     "name": "stdout",
     "text": [
      "Calculating vertex normals .... Please wait\n",
      "Finished calculating vertex normals\n",
      "Calculating curvature tensors ... Please wait\n"
     ]
    }
   ],
   "metadata": {}
  },
  {
   "cell_type": "code",
   "execution_count": null,
   "source": [
    "pcd1 = open3d.geometry.PointCloud()\n",
    "pcd1.points = open3d.utility.Vector3dVector(PrincipalDir1)\n",
    "\n",
    "pcd2 = open3d.geometry.PointCloud()\n",
    "pcd2.points = open3d.utility.Vector3dVector(PrincipalDir2)\n",
    "\n",
    "\n",
    "# draw_geometries([pcd]+[pcd1]+[pcd2])\n",
    "draw_geometries([pcd])\n",
    "\n",
    "plt.title(\"Sievert's surface\")\n",
    "plt.show()"
   ],
   "outputs": [],
   "metadata": {}
  },
  {
   "cell_type": "code",
   "execution_count": null,
   "source": [
    "draw_geometries([pcd1])"
   ],
   "outputs": [],
   "metadata": {}
  },
  {
   "cell_type": "code",
   "execution_count": null,
   "source": [
    "draw_geometries([pcd2])"
   ],
   "outputs": [],
   "metadata": {}
  },
  {
   "cell_type": "markdown",
   "source": [
    "$Df = [\\xi_{u}, \\xi_{v}]$\n",
    "\n",
    "$S[Df]^{T} Y \\approx [Df]^{T} \\Delta{\\vec{n}}$\n",
    "\n",
    "e0 = n2 - n1\n",
    "\n",
    "e1 = n0 - n2\n",
    "\n",
    "e2 = n1 - n0"
   ],
   "metadata": {}
  },
  {
   "cell_type": "code",
   "execution_count": null,
   "source": [
    "# \"Get all the edge vectors\"\n",
    "# e0 = np.array(FV.vertices[FV.faces[:, 2], :] - FV.vertices[FV.faces[:, 1], :])\n",
    "# e1 = np.array(FV.vertices[FV.faces[:, 0], :] - FV.vertices[FV.faces[:, 2], :])\n",
    "# e2 = np.array(FV.vertices[FV.faces[:, 1], :] - FV.vertices[FV.faces[:, 0], :])"
   ],
   "outputs": [],
   "metadata": {}
  },
  {
   "cell_type": "code",
   "execution_count": null,
   "source": [
    "\n",
    "# e0 /= np.linalg.norm(e0, axis=1, keepdims=True) \n",
    "# e1 /= np.linalg.norm(e1, axis=1, keepdims=True)\n",
    "# e2 /= np.linalg.norm(e2, axis=1, keepdims=True)\n"
   ],
   "outputs": [],
   "metadata": {}
  },
  {
   "cell_type": "code",
   "execution_count": null,
   "source": [
    "# icosphere_mesh = trimesh.load('./data/icosphere.obj')\n",
    "\n",
    "# icosphere_mesh"
   ],
   "outputs": [],
   "metadata": {}
  },
  {
   "cell_type": "code",
   "execution_count": null,
   "source": [
    "# pcd_sphere = open3d.geometry.PointCloud()\n",
    "# pcd_sphere.points = open3d.utility.Vector3dVector(icosphere_mesh)\n",
    "# draw_geometries([pcd_sphere])"
   ],
   "outputs": [],
   "metadata": {}
  },
  {
   "cell_type": "markdown",
   "source": [
    "3.4"
   ],
   "metadata": {}
  },
  {
   "cell_type": "markdown",
   "source": [
    "# 4 Point Cloud"
   ],
   "metadata": {}
  },
  {
   "cell_type": "markdown",
   "source": [
    "## 4.1 Sample 100K points uniformly on the surface."
   ],
   "metadata": {}
  },
  {
   "cell_type": "code",
   "execution_count": null,
   "source": [
    "saddle_mesh = trimesh.load('./data/saddle.obj')"
   ],
   "outputs": [],
   "metadata": {}
  },
  {
   "cell_type": "code",
   "execution_count": null,
   "source": [
    "samples, face_idx = trimesh.sample.sample_surface_even(saddle_mesh, count=100_000)\n",
    "samples.shape"
   ],
   "outputs": [],
   "metadata": {}
  },
  {
   "cell_type": "code",
   "execution_count": null,
   "source": [
    "pcd_samples = open3d.geometry.PointCloud()\n",
    "pcd_samples.points = open3d.utility.Vector3dVector(np.asarray(samples))\n",
    "draw_geometries([pcd_samples])\n"
   ],
   "outputs": [],
   "metadata": {}
  },
  {
   "cell_type": "markdown",
   "source": [
    "## 4.2 Use iterative farthest point sampling method to sample 4K points from the 100K uniform samples."
   ],
   "metadata": {}
  },
  {
   "cell_type": "code",
   "execution_count": null,
   "source": [
    "def fps_downsample(points, n_samples):\n",
    "    \"\"\"\n",
    "    points: [N, 3] point cloud\n",
    "    n_samples: \n",
    "    \"\"\"\n",
    "    points = np.asarray(points)\n",
    "    \n",
    "    # Represent the points by their indices in points\n",
    "    points_left = np.arange(points.shape[0], dtype='int') \n",
    "\n",
    "    # Initialise an array for the sampled indices\n",
    "    sample_idxs = np.zeros(n_samples, dtype='int') \n",
    "\n",
    "    # Initialise distances to inf\n",
    "    dists = np.ones_like(points_left) * float('inf') \n",
    "\n",
    "    # Select a point from points by its index, save it\n",
    "    selected = np.random.choice(points_left, size=1, replace=False)\n",
    "    sample_idxs[0] = points_left[selected.item()]\n",
    "\n",
    "    # Delete selected \n",
    "    points_left = np.delete(points_left, selected) # [P - 1]\n",
    "\n",
    "    # Iteratively select points for a maximum of n_samples\n",
    "    for i in range(1, n_samples):\n",
    "        # Find the distance to the last added point in selected\n",
    "        # and all the others\n",
    "        last_added = sample_idxs[i-1]\n",
    "        \n",
    "        dist_to_last_added_point = (\n",
    "            (points[last_added] - points[points_left])**2).sum(-1) # [P - i]\n",
    "\n",
    "        # updated distances\n",
    "        dists[points_left] = np.minimum(dist_to_last_added_point, \n",
    "                                        dists[points_left]) # [P - i]\n",
    "\n",
    "        # We want to pick the one that has the largest nearest neighbor\n",
    "        # distance to the sampled points\n",
    "        selected = np.argmax(dists[points_left])\n",
    "        sample_idxs[i] = points_left[selected]\n",
    "\n",
    "        # Update points_left\n",
    "        points_left = np.delete(points_left, selected)\n",
    "\n",
    "    return points[sample_idxs]"
   ],
   "outputs": [],
   "metadata": {}
  },
  {
   "cell_type": "code",
   "execution_count": null,
   "source": [
    "selected_points = fps_downsample(samples, n_samples=4_000)\n",
    "selected_points"
   ],
   "outputs": [],
   "metadata": {}
  },
  {
   "cell_type": "code",
   "execution_count": null,
   "source": [
    "pcd_selected_samples = open3d.geometry.PointCloud()\n",
    "pcd_selected_samples.points = open3d.utility.Vector3dVector(selected_points)\n",
    "draw_geometries([pcd_selected_samples])"
   ],
   "outputs": [],
   "metadata": {}
  },
  {
   "cell_type": "markdown",
   "source": [
    "## 4.3 your solution here"
   ],
   "metadata": {}
  },
  {
   "cell_type": "code",
   "execution_count": null,
   "source": [
    "from sklearn.decomposition import PCA\n",
    "\n",
    "pca =PCA()\n",
    "\n",
    "pca.fit(selected_points)"
   ],
   "outputs": [],
   "metadata": {}
  },
  {
   "cell_type": "markdown",
   "source": [
    "## 4.4 your solution here"
   ],
   "metadata": {}
  },
  {
   "cell_type": "markdown",
   "source": [
    "# 5 Course Feedback"
   ],
   "metadata": {}
  },
  {
   "cell_type": "markdown",
   "source": [
    "1. How many hours did you spend on this homework?\n",
    "2. How many hours did you spend on the course each week?\n",
    "3. Do you have any course related feedback?\n",
    "   \n",
    "   For the Office Hours,  It will be much easier to understand if you write down your explanations in a piece of paper rather than vocally explain it. \n",
    "   "
   ],
   "metadata": {}
  },
  {
   "cell_type": "code",
   "execution_count": null,
   "source": [],
   "outputs": [],
   "metadata": {}
  },
  {
   "cell_type": "code",
   "execution_count": null,
   "source": [],
   "outputs": [],
   "metadata": {}
  }
 ],
 "metadata": {
  "kernelspec": {
   "name": "python3",
   "display_name": "Python 3.9.7 64-bit ('venv': venv)"
  },
  "language_info": {
   "codemirror_mode": {
    "name": "ipython",
    "version": 3
   },
   "file_extension": ".py",
   "mimetype": "text/x-python",
   "name": "python",
   "nbconvert_exporter": "python",
   "pygments_lexer": "ipython3",
   "version": "3.9.7"
  },
  "interpreter": {
   "hash": "dd345b4a92163c2ef498472a73172e23628ef1632c49aa10e426f9dc7b25280c"
  }
 },
 "nbformat": 4,
 "nbformat_minor": 4
}